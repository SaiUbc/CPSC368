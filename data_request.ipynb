{
 "cells": [
  {
   "cell_type": "code",
   "execution_count": null,
   "id": "a78f0b5a-c23e-46af-b582-f0d00fbb379f",
   "metadata": {},
   "outputs": [],
   "source": [
    "import oracledb\n",
    "import pandas\n",
    "from dotenv import load_dotenv\n",
    "import os"
   ]
  },
  {
   "cell_type": "code",
   "execution_count": null,
   "id": "be63d247",
   "metadata": {},
   "outputs": [],
   "source": [
    "# Load environment variables from .env file\n",
    "load_dotenv()\n",
    "\n",
    "# Retrieve CWL and SNUM from environment variables\n",
    "cwl = os.getenv('CWL')\n",
    "snum = os.getenv('SNUM')"
   ]
  },
  {
   "cell_type": "code",
   "execution_count": 15,
   "id": "ac71caa7-7158-43ac-8322-39b46391453a",
   "metadata": {},
   "outputs": [],
   "source": [
    "dsn = oracledb.makedsn(\"localhost\", 1522, service_name=\"stu\")\n",
    "connection = oracledb.connect(user=f\"ora_{cwl}\", password=f\"a{snum}\", dsn=dsn)\n",
    "\n",
    "cur = connection.cursor()"
   ]
  },
  {
   "cell_type": "markdown",
   "id": "a085db2a-c0d8-4bcf-9836-975be19d0036",
   "metadata": {},
   "source": [
    "### Research Question 1: Has the adoption of digital healthcare in the United States increased from 2020 to 2024?"
   ]
  },
  {
   "cell_type": "code",
   "execution_count": 8,
   "id": "75108d9f-8c4b-4c9f-91fd-b13f8365aa65",
   "metadata": {},
   "outputs": [
    {
     "name": "stdout",
     "output_type": "stream",
     "text": [
      "(2020, 337835176)\n",
      "(2021, 233349370)\n",
      "(2022, 193374238)\n",
      "(2023, 151873571)\n"
     ]
    }
   ],
   "source": [
    "cur = connection.cursor()\n",
    "\n",
    "query = \"\"\"\n",
    "SELECT \n",
    "    \"YEAR\",\n",
    "    SUM(\"TOTAL_TELEHEALTH_USERS\") AS total_users\n",
    "FROM telehealth\n",
    "WHERE \"YEAR\" BETWEEN 2020 AND 2024\n",
    "GROUP BY \"YEAR\"\n",
    "ORDER BY \"YEAR\"\n",
    "\"\"\"\n",
    "\n",
    "cur.execute(query)\n",
    "\n",
    "# Print the results\n",
    "for row in cur:\n",
    "    print(row)\n",
    "\n",
    "cur.close()\n"
   ]
  },
  {
   "cell_type": "markdown",
   "id": "df10228f-a9be-4d43-a0db-dc89d7e83b9c",
   "metadata": {},
   "source": [
    "### Research Question 2: Did the use of digital healthcare services have an impact on mortality rates during the years 2020-2022?"
   ]
  },
  {
   "cell_type": "code",
   "execution_count": 9,
   "id": "58a5f25d-5cde-4d6a-9d50-001ef6aefc31",
   "metadata": {},
   "outputs": [
    {
     "name": "stdout",
     "output_type": "stream",
     "text": [
      "(2020, 'Female', 34300779, 1613808, 47.05)\n",
      "(2020, 'Male', 24560313, 1769805, 72.06)\n",
      "(2021, 'Female', 24102944, 1626100, 67.46)\n",
      "(2021, 'Male', 16559408, 1838038, 111)\n",
      "(2022, 'Female', 20024307, 1560591, 77.93)\n",
      "(2022, 'Male', 13680073, 1719250, 125.68)\n"
     ]
    }
   ],
   "source": [
    "cur = connection.cursor()\n",
    "\n",
    "query2 = \"\"\"\n",
    "SELECT \n",
    "    M.\"YEAR\",\n",
    "    M.\"SEX\",\n",
    "    T.TOTAL_TELEHEALTH_USERS,\n",
    "    M.TOTAL_DEATHS,\n",
    "    ROUND(M.TOTAL_DEATHS * 1000.0 / NULLIF(T.TOTAL_TELEHEALTH_USERS, 0), 2) AS DEATHS_PER_1000_USERS\n",
    "FROM (\n",
    "    SELECT \n",
    "        \"YEAR\",\n",
    "        \"SEX\",\n",
    "        SUM(\"DEATHS\") AS TOTAL_DEATHS\n",
    "    FROM MORTALITY\n",
    "    WHERE \"SEX\" IN ('Male', 'Female')\n",
    "    GROUP BY \"YEAR\", \"SEX\"\n",
    ") M\n",
    "JOIN (\n",
    "    SELECT \n",
    "        \"YEAR\",\n",
    "        \"SEX\",\n",
    "        SUM(\"TOTAL_TELEHEALTH_USERS\") AS TOTAL_TELEHEALTH_USERS\n",
    "    FROM TELEHEALTH\n",
    "    WHERE \"SEX\" IN ('Male', 'Female') AND \"AGE_GROUP\" = 'All'\n",
    "    GROUP BY \"YEAR\", \"SEX\"\n",
    ") T\n",
    "ON M.\"YEAR\" = T.\"YEAR\" AND M.\"SEX\" = T.\"SEX\"\n",
    "WHERE M.\"YEAR\" BETWEEN 2020 AND 2022\n",
    "ORDER BY M.\"YEAR\", M.\"SEX\"\n",
    "\"\"\"\n",
    "cur.execute(query2)\n",
    "for row in cur:\n",
    "    print(row)\n",
    "\n",
    "cur.close()"
   ]
  },
  {
   "cell_type": "markdown",
   "id": "33439996-305c-4c8c-98f5-8ac9fb38e4b3",
   "metadata": {},
   "source": [
    "### Research Question 3: Which groups of people used digital healthcare services the most between age and race in 2020 to 2024 in the United States?"
   ]
  },
  {
   "cell_type": "code",
   "execution_count": 12,
   "id": "ea01545d-a4e5-4bea-b600-9eb8532a8682",
   "metadata": {},
   "outputs": [
    {
     "name": "stdout",
     "output_type": "stream",
     "text": [
      "('All', 'All', 523086172)\n",
      "('All', 'Non-Hispanic White', 187820339)\n",
      "('65-74', 'All', 52431619)\n",
      "('75-84', 'All', 34417462)\n",
      "('All', 'Black/African American', 20248821)\n",
      "('0-64', 'All', 19082459)\n",
      "('All', 'Hispanic', 15804989)\n",
      "('85 and over', 'All', 14815240)\n",
      "('65-74', 'Non-Hispanic White', 13624749)\n",
      "('75-84', 'Non-Hispanic White', 9426305)\n",
      "('All', 'Asian/Pacific Islander', 8382634)\n",
      "('0-64', 'Non-Hispanic White', 4218416)\n",
      "('85 and over', 'Non-Hispanic White', 4040974)\n",
      "('All', 'American Indian/Alaska Native', 1383290)\n",
      "('65-74', 'Black/African American', 1317584)\n",
      "('0-64', 'Black/African American', 1070002)\n",
      "('65-74', 'Hispanic', 1046489)\n",
      "('75-84', 'Black/African American', 696582)\n",
      "('0-64', 'Hispanic', 687639)\n",
      "('75-84', 'Hispanic', 610660)\n",
      "('65-74', 'Asian/Pacific Islander', 601133)\n",
      "('75-84', 'Asian/Pacific Islander', 431149)\n",
      "('85 and over', 'Hispanic', 297051)\n",
      "('85 and over', 'Black/African American', 294025)\n",
      "('85 and over', 'Asian/Pacific Islander', 230250)\n",
      "('0-64', 'Asian/Pacific Islander', 135619)\n",
      "('65-74', 'American Indian/Alaska Native', 87010)\n",
      "('0-64', 'American Indian/Alaska Native', 68563)\n",
      "('75-84', 'American Indian/Alaska Native', 55720)\n",
      "('85 and over', 'American Indian/Alaska Native', 19410)\n"
     ]
    }
   ],
   "source": [
    "cur = connection.cursor()\n",
    "\n",
    "query = \"\"\"\n",
    "SELECT \n",
    "    \"AGE_GROUP\",\n",
    "    \"RACE\",\n",
    "    SUM(\"TOTAL_TELEHEALTH_USERS\") AS TOTAL_USERS\n",
    "FROM TELEHEALTH\n",
    "WHERE \"YEAR\" BETWEEN 2020 AND 2024\n",
    "GROUP BY \"AGE_GROUP\", \"RACE\"\n",
    "ORDER BY TOTAL_USERS DESC\n",
    "\"\"\"\n",
    "cur.execute(query)\n",
    "for row in cur:\n",
    "    print(row)\n",
    "\n",
    "\n",
    "\n",
    "cur.close()"
   ]
  },
  {
   "cell_type": "code",
   "execution_count": null,
   "id": "de886128",
   "metadata": {},
   "outputs": [],
   "source": []
  }
 ],
 "metadata": {
  "kernelspec": {
   "display_name": "ml_env",
   "language": "python",
   "name": "python3"
  },
  "language_info": {
   "codemirror_mode": {
    "name": "ipython",
    "version": 3
   },
   "file_extension": ".py",
   "mimetype": "text/x-python",
   "name": "python",
   "nbconvert_exporter": "python",
   "pygments_lexer": "ipython3",
   "version": "3.10.9"
  }
 },
 "nbformat": 4,
 "nbformat_minor": 5
}
